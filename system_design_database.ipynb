{
 "cells": [
  {
   "cell_type": "code",
   "execution_count": 35,
   "id": "fcfca0b9",
   "metadata": {},
   "outputs": [],
   "source": [
    "using Pkg\n"
   ]
  },
  {
   "cell_type": "code",
   "execution_count": 36,
   "id": "7fc5807b",
   "metadata": {},
   "outputs": [
    {
     "name": "stderr",
     "output_type": "stream",
     "text": [
      "\u001b[32m\u001b[1m   Resolving\u001b[22m\u001b[39m package versions...\n",
      "\u001b[32m\u001b[1m  No Changes\u001b[22m\u001b[39m to `~/.julia/environments/v1.9/Project.toml`\n",
      "\u001b[32m\u001b[1m  No Changes\u001b[22m\u001b[39m to `~/.julia/environments/v1.9/Manifest.toml`\n",
      "\u001b[32m\u001b[1m   Resolving\u001b[22m\u001b[39m package versions...\n",
      "\u001b[32m\u001b[1m  No Changes\u001b[22m\u001b[39m to `~/.julia/environments/v1.9/Project.toml`\n",
      "\u001b[32m\u001b[1m  No Changes\u001b[22m\u001b[39m to `~/.julia/environments/v1.9/Manifest.toml`\n"
     ]
    }
   ],
   "source": [
    "Pkg.add(\"SQLite\")\n",
    "Pkg.add(\"DataFrames\")"
   ]
  },
  {
   "cell_type": "code",
   "execution_count": 37,
   "id": "98a30ec9",
   "metadata": {},
   "outputs": [],
   "source": [
    "using SQLite"
   ]
  },
  {
   "cell_type": "markdown",
   "id": "9cfac395",
   "metadata": {},
   "source": [
    "# Create system design courses database"
   ]
  },
  {
   "cell_type": "code",
   "execution_count": 38,
   "id": "cc7e91be",
   "metadata": {},
   "outputs": [
    {
     "data": {
      "text/plain": [
       "SQLite.DB(\"educatives_system_design_courses\")"
      ]
     },
     "execution_count": 38,
     "metadata": {},
     "output_type": "execute_result"
    }
   ],
   "source": [
    "educatives_system_design_courses = SQLite.DB(\"educatives_system_design_courses\")"
   ]
  },
  {
   "cell_type": "code",
   "execution_count": 39,
   "id": "db10aa7e",
   "metadata": {},
   "outputs": [
    {
     "ename": "LoadError",
     "evalue": "SQLiteException(\"no such table: educatives_system_design_courses\")",
     "output_type": "error",
     "traceback": [
      "SQLiteException(\"no such table: educatives_system_design_courses\")",
      "",
      "Stacktrace:",
      " [1] sqliteerror(args::SQLite.DB)",
      "   @ SQLite ~/.julia/packages/SQLite/aeqsS/src/SQLite.jl:34",
      " [2] macro expansion",
      "   @ ~/.julia/packages/SQLite/aeqsS/src/base.jl:10 [inlined]",
      " [3] prepare_stmt_wrapper",
      "   @ ~/.julia/packages/SQLite/aeqsS/src/SQLite.jl:109 [inlined]",
      " [4] SQLite.Stmt(db::SQLite.DB, sql::String; register::Bool)",
      "   @ SQLite ~/.julia/packages/SQLite/aeqsS/src/SQLite.jl:146",
      " [5] Stmt",
      "   @ ~/.julia/packages/SQLite/aeqsS/src/SQLite.jl:145 [inlined]",
      " [6] execute(db::SQLite.DB, sql::String, params::NamedTuple{(), Tuple{}})",
      "   @ SQLite ~/.julia/packages/SQLite/aeqsS/src/SQLite.jl:561",
      " [7] #execute#7",
      "   @ ~/.julia/packages/SQLite/aeqsS/src/SQLite.jl:570 [inlined]",
      " [8] execute(db::SQLite.DB, sql::String)",
      "   @ SQLite ~/.julia/packages/SQLite/aeqsS/src/SQLite.jl:569",
      " [9] top-level scope",
      "   @ In[39]:3"
     ]
    }
   ],
   "source": [
    "#ensures if table already exists than drop it and create a new one\n",
    "\n",
    "SQLite.execute(educatives_system_design_courses, \"DROP TABLE educatives_system_design_courses\")"
   ]
  },
  {
   "cell_type": "markdown",
   "id": "9f42635a",
   "metadata": {},
   "source": [
    "# Create system design courses table"
   ]
  },
  {
   "cell_type": "code",
   "execution_count": 40,
   "id": "a894d1e2",
   "metadata": {},
   "outputs": [
    {
     "data": {
      "text/plain": [
       "101"
      ]
     },
     "execution_count": 40,
     "metadata": {},
     "output_type": "execute_result"
    }
   ],
   "source": [
    "SQLite.execute(educatives_system_design_courses, \"CREATE TABLE educatives_system_design_courses(course_id INT NOT NULL PRIMARY KEY, course_name TEXT NOT NULL , course_description TEXT NOT NULL, course_creator TEXT NOT NULL)\") "
   ]
  },
  {
   "cell_type": "code",
   "execution_count": 41,
   "id": "c7724440",
   "metadata": {},
   "outputs": [
    {
     "data": {
      "text/plain": [
       "1-element Vector{SQLite.DBTable}:\n",
       " SQLite.DBTable(\"educatives_system_design_courses\", Tables.Schema:\n",
       " :course_id           Union{Missing, Int64}\n",
       " :course_name         Union{Missing, String}\n",
       " :course_description  Union{Missing, String}\n",
       " :course_creator      Union{Missing, String})"
      ]
     },
     "execution_count": 41,
     "metadata": {},
     "output_type": "execute_result"
    }
   ],
   "source": [
    "SQLite.tables(educatives_system_design_courses)"
   ]
  },
  {
   "cell_type": "markdown",
   "id": "42367288",
   "metadata": {},
   "source": [
    "# Insert into system design courses database"
   ]
  },
  {
   "cell_type": "code",
   "execution_count": 42,
   "id": "14ff9065",
   "metadata": {},
   "outputs": [
    {
     "data": {
      "text/plain": [
       "101"
      ]
     },
     "execution_count": 42,
     "metadata": {},
     "output_type": "execute_result"
    }
   ],
   "source": [
    "SQLite.execute(educatives_system_design_courses,\"INSERT INTO educatives_system_design_courses VALUES (1,'Grokking system design interview for engineers, mentors and managers', 'A course designed to test your system design skills with an AI interviewer','Ibrahim Nadir Khan')\")"
   ]
  },
  {
   "cell_type": "code",
   "execution_count": 43,
   "id": "cd453b91",
   "metadata": {},
   "outputs": [
    {
     "data": {
      "text/plain": [
       "101"
      ]
     },
     "execution_count": 43,
     "metadata": {},
     "output_type": "execute_result"
    }
   ],
   "source": [
    "SQLite.execute(educatives_system_design_courses,\"INSERT INTO educatives_system_design_courses VALUES (2,'System design crash course','A course for a speedy system design interview prep', 'Bismillah Jan')\")"
   ]
  },
  {
   "cell_type": "markdown",
   "id": "9da71e36",
   "metadata": {},
   "source": [
    "# Retrieve system design courses data from table"
   ]
  },
  {
   "cell_type": "code",
   "execution_count": 44,
   "id": "ea491a4e",
   "metadata": {},
   "outputs": [
    {
     "data": {
      "text/html": [
       "<div><div style = \"float: left;\"><span>2×4 DataFrame</span></div><div style = \"clear: both;\"></div></div><div class = \"data-frame\" style = \"overflow-x: scroll;\"><table class = \"data-frame\" style = \"margin-bottom: 6px;\"><thead><tr class = \"header\"><th class = \"rowNumber\" style = \"font-weight: bold; text-align: right;\">Row</th><th style = \"text-align: left;\">course_id</th><th style = \"text-align: left;\">course_name</th><th style = \"text-align: left;\">course_description</th><th style = \"text-align: left;\">course_creator</th></tr><tr class = \"subheader headerLastRow\"><th class = \"rowNumber\" style = \"font-weight: bold; text-align: right;\"></th><th title = \"Int64\" style = \"text-align: left;\">Int64</th><th title = \"String\" style = \"text-align: left;\">String</th><th title = \"String\" style = \"text-align: left;\">String</th><th title = \"String\" style = \"text-align: left;\">String</th></tr></thead><tbody><tr><td class = \"rowNumber\" style = \"font-weight: bold; text-align: right;\">1</td><td style = \"text-align: right;\">1</td><td style = \"text-align: left;\">Grokking system design interview for engineers, mentors and managers</td><td style = \"text-align: left;\">A course designed to test your system design skills with an AI interviewer</td><td style = \"text-align: left;\">Ibrahim Nadir Khan</td></tr><tr><td class = \"rowNumber\" style = \"font-weight: bold; text-align: right;\">2</td><td style = \"text-align: right;\">2</td><td style = \"text-align: left;\">System design crash course</td><td style = \"text-align: left;\">A course for a speedy system design interview prep</td><td style = \"text-align: left;\">Bismillah Jan</td></tr></tbody></table></div>"
      ],
      "text/latex": [
       "\\begin{tabular}{r|ccc}\n",
       "\t& course\\_id & course\\_name & \\\\\n",
       "\t\\hline\n",
       "\t& Int64 & String & \\\\\n",
       "\t\\hline\n",
       "\t1 & 1 & Grokking system design interview for engineers, mentors and managers & $\\dots$ \\\\\n",
       "\t2 & 2 & System design crash course & $\\dots$ \\\\\n",
       "\\end{tabular}\n"
      ],
      "text/plain": [
       "\u001b[1m2×4 DataFrame\u001b[0m\n",
       "\u001b[1m Row \u001b[0m│\u001b[1m course_id \u001b[0m\u001b[1m course_name                       \u001b[0m\u001b[1m course_description       \u001b[0m ⋯\n",
       "     │\u001b[90m Int64     \u001b[0m\u001b[90m String                            \u001b[0m\u001b[90m String                   \u001b[0m ⋯\n",
       "─────┼──────────────────────────────────────────────────────────────────────────\n",
       "   1 │         1  Grokking system design interview…  A course designed to test ⋯\n",
       "   2 │         2  System design crash course         A course for a speedy sys\n",
       "\u001b[36m                                                               2 columns omitted\u001b[0m"
      ]
     },
     "execution_count": 44,
     "metadata": {},
     "output_type": "execute_result"
    }
   ],
   "source": [
    "educatives_courses = SQLite.DBInterface.execute(educatives_system_design_courses,\"SELECT * FROM educatives_system_design_courses\")\n",
    "educatives_courses_data_frame = DataFrames.DataFrame(educatives_courses)"
   ]
  },
  {
   "cell_type": "markdown",
   "id": "2b0f8cc0",
   "metadata": {},
   "source": [
    "# Update course creator name in system design courses table"
   ]
  },
  {
   "cell_type": "code",
   "execution_count": 45,
   "id": "f548c327",
   "metadata": {},
   "outputs": [
    {
     "data": {
      "text/plain": [
       "101"
      ]
     },
     "execution_count": 45,
     "metadata": {},
     "output_type": "execute_result"
    }
   ],
   "source": [
    "SQLite.execute(educatives_system_design_courses,\"UPDATE educatives_system_design_courses SET course_creator = 'Umer Daraz' WHERE course_id = 1 \")"
   ]
  },
  {
   "cell_type": "code",
   "execution_count": 46,
   "id": "8ae6850b",
   "metadata": {},
   "outputs": [
    {
     "data": {
      "text/html": [
       "<div><div style = \"float: left;\"><span>2×4 DataFrame</span></div><div style = \"clear: both;\"></div></div><div class = \"data-frame\" style = \"overflow-x: scroll;\"><table class = \"data-frame\" style = \"margin-bottom: 6px;\"><thead><tr class = \"header\"><th class = \"rowNumber\" style = \"font-weight: bold; text-align: right;\">Row</th><th style = \"text-align: left;\">course_id</th><th style = \"text-align: left;\">course_name</th><th style = \"text-align: left;\">course_description</th><th style = \"text-align: left;\">course_creator</th></tr><tr class = \"subheader headerLastRow\"><th class = \"rowNumber\" style = \"font-weight: bold; text-align: right;\"></th><th title = \"Int64\" style = \"text-align: left;\">Int64</th><th title = \"String\" style = \"text-align: left;\">String</th><th title = \"String\" style = \"text-align: left;\">String</th><th title = \"String\" style = \"text-align: left;\">String</th></tr></thead><tbody><tr><td class = \"rowNumber\" style = \"font-weight: bold; text-align: right;\">1</td><td style = \"text-align: right;\">1</td><td style = \"text-align: left;\">Grokking system design interview for engineers, mentors and managers</td><td style = \"text-align: left;\">A course designed to test your system design skills with an AI interviewer</td><td style = \"text-align: left;\">Umer Daraz</td></tr><tr><td class = \"rowNumber\" style = \"font-weight: bold; text-align: right;\">2</td><td style = \"text-align: right;\">2</td><td style = \"text-align: left;\">System design crash course</td><td style = \"text-align: left;\">A course for a speedy system design interview prep</td><td style = \"text-align: left;\">Bismillah Jan</td></tr></tbody></table></div>"
      ],
      "text/latex": [
       "\\begin{tabular}{r|ccc}\n",
       "\t& course\\_id & course\\_name & \\\\\n",
       "\t\\hline\n",
       "\t& Int64 & String & \\\\\n",
       "\t\\hline\n",
       "\t1 & 1 & Grokking system design interview for engineers, mentors and managers & $\\dots$ \\\\\n",
       "\t2 & 2 & System design crash course & $\\dots$ \\\\\n",
       "\\end{tabular}\n"
      ],
      "text/plain": [
       "\u001b[1m2×4 DataFrame\u001b[0m\n",
       "\u001b[1m Row \u001b[0m│\u001b[1m course_id \u001b[0m\u001b[1m course_name                       \u001b[0m\u001b[1m course_description       \u001b[0m ⋯\n",
       "     │\u001b[90m Int64     \u001b[0m\u001b[90m String                            \u001b[0m\u001b[90m String                   \u001b[0m ⋯\n",
       "─────┼──────────────────────────────────────────────────────────────────────────\n",
       "   1 │         1  Grokking system design interview…  A course designed to test ⋯\n",
       "   2 │         2  System design crash course         A course for a speedy sys\n",
       "\u001b[36m                                                               2 columns omitted\u001b[0m"
      ]
     },
     "execution_count": 46,
     "metadata": {},
     "output_type": "execute_result"
    }
   ],
   "source": [
    "educatives_courses = SQLite.DBInterface.execute(educatives_system_design_courses,\"SELECT * FROM educatives_system_design_courses\")\n",
    "educatives_courses_data_frame = DataFrames.DataFrame(educatives_courses)"
   ]
  },
  {
   "cell_type": "markdown",
   "id": "2a418eb5",
   "metadata": {},
   "source": [
    "# Drop system design courses table"
   ]
  },
  {
   "cell_type": "code",
   "execution_count": 47,
   "id": "f2384a29",
   "metadata": {},
   "outputs": [
    {
     "data": {
      "text/plain": [
       "101"
      ]
     },
     "execution_count": 47,
     "metadata": {},
     "output_type": "execute_result"
    }
   ],
   "source": [
    "SQLite.execute(educatives_system_design_courses, \"DROP TABLE educatives_system_design_courses\")"
   ]
  },
  {
   "cell_type": "code",
   "execution_count": 48,
   "id": "846f7031",
   "metadata": {},
   "outputs": [
    {
     "ename": "LoadError",
     "evalue": "SQLiteException(\"no such table: educatives_system_design_courses\")",
     "output_type": "error",
     "traceback": [
      "SQLiteException(\"no such table: educatives_system_design_courses\")",
      "",
      "Stacktrace:",
      "  [1] sqliteerror(args::SQLite.DB)",
      "    @ SQLite ~/.julia/packages/SQLite/aeqsS/src/SQLite.jl:34",
      "  [2] macro expansion",
      "    @ ~/.julia/packages/SQLite/aeqsS/src/base.jl:10 [inlined]",
      "  [3] prepare_stmt_wrapper",
      "    @ ~/.julia/packages/SQLite/aeqsS/src/SQLite.jl:109 [inlined]",
      "  [4] SQLite.Stmt(db::SQLite.DB, sql::String; register::Bool)",
      "    @ SQLite ~/.julia/packages/SQLite/aeqsS/src/SQLite.jl:146",
      "  [5] Stmt",
      "    @ ~/.julia/packages/SQLite/aeqsS/src/SQLite.jl:145 [inlined]",
      "  [6] prepare",
      "    @ ~/.julia/packages/SQLite/aeqsS/src/SQLite.jl:180 [inlined]",
      "  [7] execute",
      "    @ ~/.julia/packages/DBInterface/1Gmxx/src/DBInterface.jl:130 [inlined]",
      "  [8] #execute#2",
      "    @ ~/.julia/packages/DBInterface/1Gmxx/src/DBInterface.jl:152 [inlined]",
      "  [9] execute(conn::SQLite.DB, sql::String)",
      "    @ DBInterface ~/.julia/packages/DBInterface/1Gmxx/src/DBInterface.jl:152",
      " [10] top-level scope",
      "    @ In[48]:1"
     ]
    }
   ],
   "source": [
    "educatives_courses = SQLite.DBInterface.execute(educatives_system_design_courses,\"SELECT * FROM educatives_system_design_courses\")\n",
    "educatives_courses_data_frame = DataFrames.DataFrame(educatives_courses)"
   ]
  }
 ],
 "metadata": {
  "kernelspec": {
   "display_name": "Julia 1.9.4",
   "language": "julia",
   "name": "julia-1.9"
  },
  "language_info": {
   "file_extension": ".jl",
   "mimetype": "application/julia",
   "name": "julia",
   "version": "1.9.4"
  }
 },
 "nbformat": 4,
 "nbformat_minor": 5
}
